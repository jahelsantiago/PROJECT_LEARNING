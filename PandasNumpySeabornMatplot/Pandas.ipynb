{
 "cells": [
  {
   "cell_type": "markdown",
   "metadata": {},
   "source": [
    "# DATA FRAMES"
   ]
  },
  {
   "cell_type": "code",
   "execution_count": 2,
   "metadata": {},
   "outputs": [],
   "source": [
    "import pandas as pd\n",
    "import numpy as np\n",
    "import glob as glob"
   ]
  },
  {
   "cell_type": "markdown",
   "metadata": {},
   "source": [
    "Creamos un data freame a partir de un diccionario"
   ]
  },
  {
   "cell_type": "code",
   "execution_count": 2,
   "metadata": {},
   "outputs": [
    {
     "name": "stdout",
     "output_type": "stream",
     "text": [
      "   nombre  calificaciones deportes materias\n",
      "0     N/A             100   futbol   ingles\n",
      "1   david              95      N/A  metodos\n",
      "2  julian              80   basket      NaN\n"
     ]
    }
   ],
   "source": [
    "datos = {\n",
    "    \"nombre\":[\"N/A\",\"david\",\"julian\"],\n",
    "    \"calificaciones\":[100,95,80],\n",
    "     \"deportes\":[\"futbol\",\"N/A\",\"basket\"],\n",
    "     \"materias\":[\"ingles\",\"metodos\",np.nan]\n",
    "        }\n",
    "df = pd.DataFrame(datos) # contructor\n",
    "print(df)"
   ]
  },
  {
   "cell_type": "markdown",
   "metadata": {},
   "source": [
    "####  con df.info() nos da un resumen de el data frame"
   ]
  },
  {
   "cell_type": "code",
   "execution_count": 3,
   "metadata": {},
   "outputs": [
    {
     "name": "stdout",
     "output_type": "stream",
     "text": [
      "<class 'pandas.core.frame.DataFrame'>\n",
      "RangeIndex: 3 entries, 0 to 2\n",
      "Data columns (total 4 columns):\n",
      " #   Column          Non-Null Count  Dtype \n",
      "---  ------          --------------  ----- \n",
      " 0   nombre          3 non-null      object\n",
      " 1   calificaciones  3 non-null      int64 \n",
      " 2   deportes        3 non-null      object\n",
      " 3   materias        2 non-null      object\n",
      "dtypes: int64(1), object(3)\n",
      "memory usage: 224.0+ bytes\n"
     ]
    }
   ],
   "source": [
    "df.info()"
   ]
  },
  {
   "cell_type": "markdown",
   "metadata": {},
   "source": [
    "##### Estaditicas basicas\n",
    "usamos DF.describe()"
   ]
  },
  {
   "cell_type": "code",
   "execution_count": 4,
   "metadata": {},
   "outputs": [
    {
     "data": {
      "text/html": [
       "<div>\n",
       "<style scoped>\n",
       "    .dataframe tbody tr th:only-of-type {\n",
       "        vertical-align: middle;\n",
       "    }\n",
       "\n",
       "    .dataframe tbody tr th {\n",
       "        vertical-align: top;\n",
       "    }\n",
       "\n",
       "    .dataframe thead th {\n",
       "        text-align: right;\n",
       "    }\n",
       "</style>\n",
       "<table border=\"1\" class=\"dataframe\">\n",
       "  <thead>\n",
       "    <tr style=\"text-align: right;\">\n",
       "      <th></th>\n",
       "      <th>calificaciones</th>\n",
       "    </tr>\n",
       "  </thead>\n",
       "  <tbody>\n",
       "    <tr>\n",
       "      <th>count</th>\n",
       "      <td>3.000000</td>\n",
       "    </tr>\n",
       "    <tr>\n",
       "      <th>mean</th>\n",
       "      <td>91.666667</td>\n",
       "    </tr>\n",
       "    <tr>\n",
       "      <th>std</th>\n",
       "      <td>10.408330</td>\n",
       "    </tr>\n",
       "    <tr>\n",
       "      <th>min</th>\n",
       "      <td>80.000000</td>\n",
       "    </tr>\n",
       "    <tr>\n",
       "      <th>25%</th>\n",
       "      <td>87.500000</td>\n",
       "    </tr>\n",
       "    <tr>\n",
       "      <th>50%</th>\n",
       "      <td>95.000000</td>\n",
       "    </tr>\n",
       "    <tr>\n",
       "      <th>75%</th>\n",
       "      <td>97.500000</td>\n",
       "    </tr>\n",
       "    <tr>\n",
       "      <th>max</th>\n",
       "      <td>100.000000</td>\n",
       "    </tr>\n",
       "  </tbody>\n",
       "</table>\n",
       "</div>"
      ],
      "text/plain": [
       "       calificaciones\n",
       "count        3.000000\n",
       "mean        91.666667\n",
       "std         10.408330\n",
       "min         80.000000\n",
       "25%         87.500000\n",
       "50%         95.000000\n",
       "75%         97.500000\n",
       "max        100.000000"
      ]
     },
     "execution_count": 4,
     "metadata": {},
     "output_type": "execute_result"
    }
   ],
   "source": [
    "df.describe()"
   ]
  },
  {
   "cell_type": "markdown",
   "metadata": {},
   "source": [
    "### Remplazar valores viejos con nuevos\n",
    "con df.replace(\"valor_antiguo\",\"valor_nuevo\") podemos buscar y reemplasar"
   ]
  },
  {
   "cell_type": "code",
   "execution_count": 6,
   "metadata": {},
   "outputs": [
    {
     "name": "stdout",
     "output_type": "stream",
     "text": [
      "   nombre  calificaciones deportes materias\n",
      "0       0             100   futbol   ingles\n",
      "1   david              95        0  metodos\n",
      "2  julian              80   basket      NaN\n"
     ]
    }
   ],
   "source": [
    "pd_remp = pd.DataFrame(df) #copiasmos un data frame en otro\n",
    "pd_remp = pd_remp.replace(\"N/A\",0)\n",
    "print(pd_remp)"
   ]
  },
  {
   "cell_type": "markdown",
   "metadata": {},
   "source": [
    "#### Eliminar valores nulos\n",
    "con df.dropna(how = \"any\",inplace = True) se eliminan cualquier fila con registros nulos"
   ]
  },
  {
   "cell_type": "code",
   "execution_count": 8,
   "metadata": {},
   "outputs": [
    {
     "name": "stdout",
     "output_type": "stream",
     "text": [
      "  nombre  calificaciones deportes materias\n",
      "0    N/A             100   futbol   ingles\n",
      "1  david              95      N/A  metodos\n"
     ]
    }
   ],
   "source": [
    "df_elm = pd.DataFrame(df)\n",
    "df_elm.dropna(how = \"any\",inplace = True)\n",
    "print(df_elm)"
   ]
  },
  {
   "cell_type": "markdown",
   "metadata": {},
   "source": [
    "#### Eliminar valores nulos basado en columnas\n",
    "con df = df_col[pd_col[\"nombre\"] != \"N/A\"]\n",
    "df[df[\"nombre_columna]!= \"atributo\"] ------> asi se puede elegir los que son distintos a un atributo dado"
   ]
  },
  {
   "cell_type": "code",
   "execution_count": 9,
   "metadata": {},
   "outputs": [
    {
     "name": "stdout",
     "output_type": "stream",
     "text": [
      "   nombre  calificaciones deportes materias\n",
      "1   david              95      N/A  metodos\n",
      "2  julian              80   basket      NaN\n"
     ]
    }
   ],
   "source": [
    "df_col = pd.DataFrame(df)\n",
    "df_col = df_col[df_col[\"nombre\"] != \"N/A\"]\n",
    "print(df_col)"
   ]
  },
  {
   "cell_type": "markdown",
   "metadata": {},
   "source": [
    "#### Llenar valores nulos con el que uno elija\n",
    "df.fillna(\"valor_cambiar\", inplace = bool)"
   ]
  },
  {
   "cell_type": "code",
   "execution_count": 10,
   "metadata": {},
   "outputs": [
    {
     "name": "stdout",
     "output_type": "stream",
     "text": [
      "   nombre  calificaciones deportes materias\n",
      "0     N/A             100   futbol   ingles\n",
      "1   david              95      N/A  metodos\n",
      "2  julian              80   basket        0\n"
     ]
    }
   ],
   "source": [
    "df_fill = df.fillna(0)\n",
    "print(df_fill)"
   ]
  },
  {
   "cell_type": "markdown",
   "metadata": {},
   "source": [
    "#### se puede acceder a una columna con ---------> df.nombre_columna "
   ]
  },
  {
   "cell_type": "code",
   "execution_count": 11,
   "metadata": {},
   "outputs": [
    {
     "name": "stdout",
     "output_type": "stream",
     "text": [
      "0    100\n",
      "1     95\n",
      "2     80\n",
      "Name: calificaciones, dtype: int64\n"
     ]
    }
   ],
   "source": [
    "print(df.calificaciones)"
   ]
  },
  {
   "cell_type": "markdown",
   "metadata": {},
   "source": [
    "# ESTADISTICAS BASICAS PARA UN ARCHIVO CSV"
   ]
  },
  {
   "cell_type": "code",
   "execution_count": 1,
   "metadata": {},
   "outputs": [
    {
     "name": "stdout",
     "output_type": "stream",
     "text": [
      "<class 'pandas.core.frame.DataFrame'>\n",
      "RangeIndex: 46652 entries, 0 to 46651\n",
      "Data columns (total 54 columns):\n",
      " #   Column      Non-Null Count  Dtype  \n",
      "---  ------      --------------  -----  \n",
      " 0   ATP         46652 non-null  int64  \n",
      " 1   Location    46652 non-null  object \n",
      " 2   Tournament  46652 non-null  object \n",
      " 3   Date        46652 non-null  object \n",
      " 4   Series      46652 non-null  object \n",
      " 5   Court       46652 non-null  object \n",
      " 6   Surface     46652 non-null  object \n",
      " 7   Round       46652 non-null  object \n",
      " 8   Best of     46652 non-null  int64  \n",
      " 9   Winner      46652 non-null  object \n",
      " 10  Loser       46652 non-null  object \n",
      " 11  WRank       46637 non-null  object \n",
      " 12  LRank       46581 non-null  object \n",
      " 13  W1          46423 non-null  float64\n",
      " 14  L1          46423 non-null  float64\n",
      " 15  W2          45962 non-null  float64\n",
      " 16  L2          45963 non-null  float64\n",
      " 17  W3          21365 non-null  float64\n",
      " 18  L3          21365 non-null  float64\n",
      " 19  W4          4226 non-null   float64\n",
      " 20  L4          4226 non-null   float64\n",
      " 21  W5          1617 non-null   float64\n",
      " 22  L5          1617 non-null   float64\n",
      " 23  Wsets       46462 non-null  float64\n",
      " 24  Lsets       46462 non-null  float64\n",
      " 25  Comment     46652 non-null  object \n",
      " 26  CBW         17507 non-null  float64\n",
      " 27  CBL         17507 non-null  float64\n",
      " 28  GBW         5055 non-null   float64\n",
      " 29  GBL         5055 non-null   float64\n",
      " 30  IWW         13358 non-null  float64\n",
      " 31  IWL         13358 non-null  float64\n",
      " 32  SBW         5424 non-null   float64\n",
      " 33  SBL         5424 non-null   float64\n",
      " 34  B365W       38019 non-null  float64\n",
      " 35  B365L       38042 non-null  float64\n",
      " 36  B&WW        1097 non-null   float64\n",
      " 37  B&WL        1097 non-null   float64\n",
      " 38  EXW         33799 non-null  float64\n",
      " 39  EXL         33804 non-null  float64\n",
      " 40  PSW         31729 non-null  float64\n",
      " 41  PSL         31729 non-null  float64\n",
      " 42  WPts        30448 non-null  float64\n",
      " 43  LPts        30396 non-null  float64\n",
      " 44  UBW         10672 non-null  float64\n",
      " 45  UBL         10672 non-null  float64\n",
      " 46  LBW         23230 non-null  float64\n",
      " 47  LBL         23239 non-null  float64\n",
      " 48  SJW         15572 non-null  float64\n",
      " 49  SJL         15579 non-null  float64\n",
      " 50  MaxW        17104 non-null  float64\n",
      " 51  MaxL        17104 non-null  float64\n",
      " 52  AvgW        17104 non-null  float64\n",
      " 53  AvgL        17104 non-null  float64\n",
      "dtypes: float64(40), int64(2), object(12)\n",
      "memory usage: 19.2+ MB\n",
      "None\n"
     ]
    },
    {
     "name": "stderr",
     "output_type": "stream",
     "text": [
      "C:\\Users\\ProBook\\anaconda3\\lib\\site-packages\\IPython\\core\\interactiveshell.py:3063: DtypeWarning: Columns (11,12) have mixed types.Specify dtype option on import or set low_memory=False.\n",
      "  interactivity=interactivity, compiler=compiler, result=result)\n"
     ]
    }
   ],
   "source": [
    "import pandas as pd\n",
    "datos = pd.read_csv(\"datos.csv\",encoding=\"cp1252\") #asi se lee un archivo csv\n",
    "print(datos.info())"
   ]
  },
  {
   "cell_type": "markdown",
   "metadata": {},
   "source": [
    "#  ACCEDER A FILAS Y COLUMNAS POR SU POSICION"
   ]
  },
  {
   "cell_type": "markdown",
   "metadata": {},
   "source": [
    "#### Acceder a filas por su posicion\n",
    "- df.iloc[inicio:fin] ---------> retorna las filas en el rango inicio a fin\n",
    "- df.iloc[numero] ------> retorn una serie con el numero de la fila\n",
    "- df.iloc[[lista_filas],] -------->retorna las filas seleccionadas dentro de la lista\n",
    "-------------------------\n"
   ]
  },
  {
   "cell_type": "code",
   "execution_count": 2,
   "metadata": {},
   "outputs": [
    {
     "name": "stdout",
     "output_type": "stream",
     "text": [
      "    ATP  Location                          Tournament       Date  \\\n",
      "1     1  Adelaide  Australian Hardcourt Championships  3/01/2000   \n",
      "3     1  Adelaide  Australian Hardcourt Championships  3/01/2000   \n",
      "5     1  Adelaide  Australian Hardcourt Championships  3/01/2000   \n",
      "29    1  Adelaide  Australian Hardcourt Championships  3/01/2000   \n",
      "\n",
      "           Series    Court Surface       Round  Best of        Winner  ...  \\\n",
      "1   International  Outdoor    Hard   1st Round        3    Enqvist T.  ...   \n",
      "3   International  Outdoor    Hard   1st Round        3    Federer R.  ...   \n",
      "5   International  Outdoor    Hard   1st Round        3  Gambill J.M.  ...   \n",
      "29  International  Outdoor    Hard  Semifinals        3     Hewitt L.  ...   \n",
      "\n",
      "   UBW UBL LBW  LBL  SJW  SJL  MaxW  MaxL  AvgW  AvgL  \n",
      "1  NaN NaN NaN  NaN  NaN  NaN   NaN   NaN   NaN   NaN  \n",
      "3  NaN NaN NaN  NaN  NaN  NaN   NaN   NaN   NaN   NaN  \n",
      "5  NaN NaN NaN  NaN  NaN  NaN   NaN   NaN   NaN   NaN  \n",
      "29 NaN NaN NaN  NaN  NaN  NaN   NaN   NaN   NaN   NaN  \n",
      "\n",
      "[4 rows x 54 columns]\n"
     ]
    }
   ],
   "source": [
    "print(datos.iloc[[1,3,5,29],])"
   ]
  },
  {
   "cell_type": "markdown",
   "metadata": {},
   "source": [
    "#### Accede a columnas por su posicion\n",
    "- df.iloc[ _ : _ , _ : _ ] en donde en cada posicion va la fila y columna correspondiente\n",
    "- df.iloc[[lista_filas],[lista_columnas]] trae las filas y columnas seleccionadas en la lista"
   ]
  },
  {
   "cell_type": "code",
   "execution_count": 3,
   "metadata": {},
   "outputs": [
    {
     "name": "stdout",
     "output_type": "stream",
     "text": [
      "             Date\n",
      "0       3/01/2000\n",
      "1       3/01/2000\n",
      "2       3/01/2000\n",
      "3       3/01/2000\n",
      "4       3/01/2000\n",
      "...           ...\n",
      "46647  23/09/2016\n",
      "46648  23/09/2016\n",
      "46649  24/09/2016\n",
      "46650  24/09/2016\n",
      "46651  25/09/2016\n",
      "\n",
      "[46652 rows x 1 columns]\n"
     ]
    }
   ],
   "source": [
    "print(datos.iloc[:,3:4])"
   ]
  },
  {
   "cell_type": "code",
   "execution_count": 4,
   "metadata": {},
   "outputs": [
    {
     "name": "stdout",
     "output_type": "stream",
     "text": [
      "    Location       Date         Series\n",
      "1   Adelaide  3/01/2000  International\n",
      "3   Adelaide  3/01/2000  International\n",
      "5   Adelaide  3/01/2000  International\n",
      "29  Adelaide  3/01/2000  International\n"
     ]
    }
   ],
   "source": [
    "print(datos.iloc[[1,3,5,29],[1,3,4]])"
   ]
  },
  {
   "cell_type": "markdown",
   "metadata": {},
   "source": [
    "# ACCEDER A FILAS Y COLUMNAS POR NOMBRE"
   ]
  },
  {
   "cell_type": "markdown",
   "metadata": {},
   "source": [
    "###  Seleccionar un indice en un data frame\n",
    "df.set_index(\"nombre_columna\", inplace = True) -----------> configura un indice"
   ]
  },
  {
   "cell_type": "code",
   "execution_count": 5,
   "metadata": {},
   "outputs": [],
   "source": [
    "datos.set_index(\"Location\", inplace = True)"
   ]
  },
  {
   "cell_type": "code",
   "execution_count": 6,
   "metadata": {},
   "outputs": [
    {
     "name": "stdout",
     "output_type": "stream",
     "text": [
      "          ATP                          Tournament       Date         Series  \\\n",
      "Location                                                                      \n",
      "Adelaide    1  Australian Hardcourt Championships  3/01/2000  International   \n",
      "Adelaide    1  Australian Hardcourt Championships  3/01/2000  International   \n",
      "Adelaide    1  Australian Hardcourt Championships  3/01/2000  International   \n",
      "Adelaide    1  Australian Hardcourt Championships  3/01/2000  International   \n",
      "Adelaide    1  Australian Hardcourt Championships  3/01/2000  International   \n",
      "\n",
      "            Court Surface      Round  Best of       Winner           Loser  \\\n",
      "Location                                                                     \n",
      "Adelaide  Outdoor    Hard  1st Round        3   Dosedel S.     Ljubicic I.   \n",
      "Adelaide  Outdoor    Hard  1st Round        3   Enqvist T.      Clement A.   \n",
      "Adelaide  Outdoor    Hard  1st Round        3    Escude N.   Baccanello P.   \n",
      "Adelaide  Outdoor    Hard  1st Round        3   Federer R.  Knippschild J.   \n",
      "Adelaide  Outdoor    Hard  1st Round        3  Fromberg R.   Woodbridge T.   \n",
      "\n",
      "          ... UBW UBL  LBW  LBL  SJW  SJL  MaxW  MaxL  AvgW  AvgL  \n",
      "Location  ...                                                      \n",
      "Adelaide  ... NaN NaN  NaN  NaN  NaN  NaN   NaN   NaN   NaN   NaN  \n",
      "Adelaide  ... NaN NaN  NaN  NaN  NaN  NaN   NaN   NaN   NaN   NaN  \n",
      "Adelaide  ... NaN NaN  NaN  NaN  NaN  NaN   NaN   NaN   NaN   NaN  \n",
      "Adelaide  ... NaN NaN  NaN  NaN  NaN  NaN   NaN   NaN   NaN   NaN  \n",
      "Adelaide  ... NaN NaN  NaN  NaN  NaN  NaN   NaN   NaN   NaN   NaN  \n",
      "\n",
      "[5 rows x 53 columns]\n"
     ]
    }
   ],
   "source": [
    "print(datos.head())"
   ]
  },
  {
   "cell_type": "markdown",
   "metadata": {},
   "source": [
    "### Ubicar filas por su nombre\n",
    "usando df.loc[\"nombre_registro\"] ----------------> ubica todos los registros en el indice que tengan ese nombre"
   ]
  },
  {
   "cell_type": "code",
   "execution_count": 7,
   "metadata": {},
   "outputs": [
    {
     "name": "stdout",
     "output_type": "stream",
     "text": [
      "           ATP       Tournament        Date      Series    Court Surface  \\\n",
      "Location                                                                   \n",
      "Melbourne    6  Australian Open  17/01/2000  Grand Slam  Outdoor    Hard   \n",
      "Melbourne    6  Australian Open  17/01/2000  Grand Slam  Outdoor    Hard   \n",
      "Melbourne    6  Australian Open  17/01/2000  Grand Slam  Outdoor    Hard   \n",
      "Melbourne    6  Australian Open  17/01/2000  Grand Slam  Outdoor    Hard   \n",
      "Melbourne    6  Australian Open  17/01/2000  Grand Slam  Outdoor    Hard   \n",
      "...        ...              ...         ...         ...      ...     ...   \n",
      "Melbourne    6  Australian Open  27/01/2016  Grand Slam  Outdoor    Hard   \n",
      "Melbourne    6  Australian Open  27/01/2016  Grand Slam  Outdoor    Hard   \n",
      "Melbourne    6  Australian Open  28/01/2016  Grand Slam  Outdoor    Hard   \n",
      "Melbourne    6  Australian Open  29/01/2016  Grand Slam  Outdoor    Hard   \n",
      "Melbourne    6  Australian Open  31/01/2016  Grand Slam  Outdoor    Hard   \n",
      "\n",
      "                   Round  Best of       Winner           Loser  ... UBW UBL  \\\n",
      "Location                                                        ...           \n",
      "Melbourne      1st Round        5    Agassi A.       Puerta M.  ... NaN NaN   \n",
      "Melbourne      1st Round        5     Alami K.        Manta L.  ... NaN NaN   \n",
      "Melbourne      1st Round        5     Arazi H.       Alonso J.  ... NaN NaN   \n",
      "Melbourne      1st Round        5   Behrend T.     Meligeni F.  ... NaN NaN   \n",
      "Melbourne      1st Round        5  Bjorkman J.  Stoltenberg J.  ... NaN NaN   \n",
      "...                  ...      ...          ...             ...  ...  ..  ..   \n",
      "Melbourne  Quarterfinals        5    Murray A.       Ferrer D.  ... NaN NaN   \n",
      "Melbourne  Quarterfinals        5    Raonic M.      Monfils G.  ... NaN NaN   \n",
      "Melbourne     Semifinals        5  Djokovic N.      Federer R.  ... NaN NaN   \n",
      "Melbourne     Semifinals        5    Murray A.       Raonic M.  ... NaN NaN   \n",
      "Melbourne      The Final        5  Djokovic N.       Murray A.  ... NaN NaN   \n",
      "\n",
      "            LBW   LBL  SJW  SJL  MaxW  MaxL  AvgW  AvgL  \n",
      "Location                                                 \n",
      "Melbourne   NaN   NaN  NaN  NaN   NaN   NaN   NaN   NaN  \n",
      "Melbourne   NaN   NaN  NaN  NaN   NaN   NaN   NaN   NaN  \n",
      "Melbourne   NaN   NaN  NaN  NaN   NaN   NaN   NaN   NaN  \n",
      "Melbourne   NaN   NaN  NaN  NaN   NaN   NaN   NaN   NaN  \n",
      "Melbourne   NaN   NaN  NaN  NaN   NaN   NaN   NaN   NaN  \n",
      "...         ...   ...  ...  ...   ...   ...   ...   ...  \n",
      "Melbourne  1.17  5.00  NaN  NaN  1.23  5.75  1.18  4.92  \n",
      "Melbourne  1.36  3.25  NaN  NaN  1.39  3.50  1.35  3.22  \n",
      "Melbourne  1.30  3.50  NaN  NaN  1.40  3.75  1.32  3.41  \n",
      "Melbourne  1.33  3.40  NaN  NaN  1.41  3.50  1.36  3.19  \n",
      "Melbourne  1.20  5.00  NaN  NaN  1.22  5.50  1.19  4.92  \n",
      "\n",
      "[2159 rows x 53 columns]\n"
     ]
    }
   ],
   "source": [
    "print(datos.loc[\"Melbourne\"]) # todos los registros que su ubicacion sea en melbourne"
   ]
  },
  {
   "cell_type": "markdown",
   "metadata": {},
   "source": [
    "### Busca por nombre de fila y nombre de columna\n",
    "- datos.loc[\"nombre_fila\",\"nombre_columna\" ] ------> ubica por nombre de regito y columna\n",
    "- datos.loc[ [ lista_filas ] , [ lista_columnas ] ] ------> ubica por lista de regito y  lista de columnas\n",
    "- datos.loc[ [ \"fila_inicio\" : \"fila_final\" ] , [ \"columna_inicio\" : \"columna_final\" ] ]"
   ]
  },
  {
   "cell_type": "code",
   "execution_count": 8,
   "metadata": {},
   "outputs": [
    {
     "name": "stdout",
     "output_type": "stream",
     "text": [
      "                 Date         Series    Court Surface          Round\n",
      "Location                                                            \n",
      "Atlanta    10/04/2000  International  Outdoor    Clay      1st Round\n",
      "Atlanta    10/04/2000  International  Outdoor    Clay      1st Round\n",
      "Atlanta    10/04/2000  International  Outdoor    Clay      1st Round\n",
      "Atlanta    10/04/2000  International  Outdoor    Clay      1st Round\n",
      "Atlanta    10/04/2000  International  Outdoor    Clay      1st Round\n",
      "...               ...            ...      ...     ...            ...\n",
      "Melbourne  27/01/2016     Grand Slam  Outdoor    Hard  Quarterfinals\n",
      "Melbourne  27/01/2016     Grand Slam  Outdoor    Hard  Quarterfinals\n",
      "Melbourne  28/01/2016     Grand Slam  Outdoor    Hard     Semifinals\n",
      "Melbourne  29/01/2016     Grand Slam  Outdoor    Hard     Semifinals\n",
      "Melbourne  31/01/2016     Grand Slam  Outdoor    Hard      The Final\n",
      "\n",
      "[2410 rows x 5 columns]\n"
     ]
    }
   ],
   "source": [
    "print(datos.loc[[\"Atlanta\",\"Melbourne\"], \"Date\":\"Round\"]) #busca registos con indice atlanta en la columna date"
   ]
  },
  {
   "cell_type": "markdown",
   "metadata": {},
   "source": []
  },
  {
   "cell_type": "markdown",
   "metadata": {},
   "source": [
    "# Exportar archivos csv"
   ]
  },
  {
   "cell_type": "code",
   "execution_count": 9,
   "metadata": {},
   "outputs": [],
   "source": [
    " datos.reset_index().to_csv(\"expor.csv\", header = True, index = False)"
   ]
  },
  {
   "cell_type": "markdown",
   "metadata": {},
   "source": [
    "# Busquedas con condicioens OJO\n",
    "- df.loc[ df[\"nombre_columna\"] == condicion, [lista_columnas] ] )\n",
    "- df.loc[ df[\"nombre_columna\"].str.endwith(\"Frase_final\") & condicion 2 % ....\n",
    "- podemos asignar mas de una condicion con el ----> & <-----"
   ]
  },
  {
   "cell_type": "code",
   "execution_count": 10,
   "metadata": {},
   "outputs": [
    {
     "name": "stdout",
     "output_type": "stream",
     "text": [
      "               Series Surface\n",
      "Location                     \n",
      "Melbourne  Grand Slam    Hard\n",
      "Melbourne  Grand Slam    Hard\n",
      "Melbourne  Grand Slam    Hard\n",
      "Melbourne  Grand Slam    Hard\n",
      "Melbourne  Grand Slam    Hard\n",
      "...               ...     ...\n",
      "New York   Grand Slam    Hard\n",
      "New York   Grand Slam    Hard\n",
      "New York   Grand Slam    Hard\n",
      "New York   Grand Slam    Hard\n",
      "New York   Grand Slam    Hard\n",
      "\n",
      "[4318 rows x 2 columns]\n"
     ]
    }
   ],
   "source": [
    "#print(datos.loc[datos[\"Round\"] == \"Semifinals\", [\"Date\",\"Winner\"]])\n",
    "print( datos.loc[(datos[\"Surface\"] == \"Hard\") & (datos[\"Series\"].str.endswith(\"Slam\"))  , [\"Series\", \"Surface\"]])"
   ]
  },
  {
   "cell_type": "markdown",
   "metadata": {},
   "source": [
    "# Ordenar datos por columnas\n",
    "df.order_values(by = \"nombre_columna\", ascending = bool) ---------> ordena vasado en una columna"
   ]
  },
  {
   "cell_type": "code",
   "execution_count": 11,
   "metadata": {},
   "outputs": [
    {
     "name": "stdout",
     "output_type": "stream",
     "text": [
      "    id  type        xs        ys        zs\n",
      "0  500     1  0.413068  0.247238  0.139937\n",
      "1  384     1  0.509008  0.225649  0.113632\n",
      "2  391     1  0.596777  0.212693  0.082769\n",
      "3   91     1  0.554459  0.155958  0.152680\n",
      "4  396     1  0.678003  0.227263  0.134453\n"
     ]
    }
   ],
   "source": [
    "data = pd.read_csv(\"DatosYT.csv\")\n",
    "print(data.head())"
   ]
  },
  {
   "cell_type": "code",
   "execution_count": 12,
   "metadata": {},
   "outputs": [
    {
     "name": "stdout",
     "output_type": "stream",
     "text": [
      "     id  type        xs        ys        zs\n",
      "16  189     1  0.155960  0.453291  0.147866\n",
      "7   572     1  0.398526  0.368158  0.029198\n",
      "13  137     1  0.573823  0.364810  0.043554\n",
      "10  612     1  0.486912  0.343823  0.000880\n",
      "9   710     1  0.431955  0.334981  0.152336\n",
      "5   183     1  0.263006  0.326260  0.129268\n",
      "15  566     1  0.700857  0.316037  0.147745\n",
      "6   199     1  0.355738  0.315005  0.096178\n",
      "12  737     1  0.529449  0.313131  0.123254\n",
      "14  108     1  0.618594  0.298632  0.091062\n",
      "8   563     1  0.449962  0.296985  0.070094\n",
      "11  754     1  0.541953  0.275987  0.035143\n",
      "0   500     1  0.413068  0.247238  0.139937\n",
      "4   396     1  0.678003  0.227263  0.134453\n",
      "1   384     1  0.509008  0.225649  0.113632\n",
      "2   391     1  0.596777  0.212693  0.082769\n",
      "3    91     1  0.554459  0.155958  0.152680\n"
     ]
    }
   ],
   "source": [
    "print(data.sort_values( by = \"ys\", ascending = False))"
   ]
  },
  {
   "cell_type": "markdown",
   "metadata": {},
   "source": [
    "- df.values ---------> retorna un nupyrepresentacion del frame\n",
    "-  data.columns ---------> retorna una serie con las columnas\n",
    "-  data.index ---------> retorna una serie con los indices\n",
    "----------------\n",
    "- print(pd.DataFrame(np.sort(data.values, axis = 0), index = data.index, columns = data.columns)) ----> orden de todos los elementos"
   ]
  },
  {
   "cell_type": "code",
   "execution_count": 15,
   "metadata": {},
   "outputs": [
    {
     "name": "stdout",
     "output_type": "stream",
     "text": [
      "       id  type        xs        ys        zs\n",
      "0    91.0   1.0  0.155960  0.155958  0.000880\n",
      "1   108.0   1.0  0.263006  0.212693  0.029198\n",
      "2   137.0   1.0  0.355738  0.225649  0.035143\n",
      "3   183.0   1.0  0.398526  0.227263  0.043554\n",
      "4   189.0   1.0  0.413068  0.247238  0.070094\n",
      "5   199.0   1.0  0.431955  0.275987  0.082769\n",
      "6   384.0   1.0  0.449962  0.296985  0.091062\n",
      "7   391.0   1.0  0.486912  0.298632  0.096178\n",
      "8   396.0   1.0  0.509008  0.313131  0.113632\n",
      "9   500.0   1.0  0.529449  0.315005  0.123254\n",
      "10  563.0   1.0  0.541953  0.316037  0.129268\n",
      "11  566.0   1.0  0.554459  0.326260  0.134453\n",
      "12  572.0   1.0  0.573823  0.334981  0.139937\n",
      "13  612.0   1.0  0.596777  0.343823  0.147745\n",
      "14  710.0   1.0  0.618594  0.364810  0.147866\n",
      "15  737.0   1.0  0.678003  0.368158  0.152336\n",
      "16  754.0   1.0  0.700857  0.453291  0.152680\n"
     ]
    }
   ],
   "source": [
    "print(pd.DataFrame(np.sort(data.values, axis = 0), index = data.index, columns = data.columns))"
   ]
  },
  {
   "cell_type": "markdown",
   "metadata": {},
   "source": [
    "###  OPERACIONES CON CONDICIONES EN COLUMNAS\n",
    "# Añadri columnas\n",
    "- df.loc[fila,columna] = valor ---------> podemos crear una nueva columna y añadirle informacion\n",
    "- df[\"columna\"] = valor ------------> crea nueva columna\n",
    "- len(df) ---------> retorna el numero de registros\n"
   ]
  },
  {
   "cell_type": "code",
   "execution_count": 21,
   "metadata": {},
   "outputs": [
    {
     "name": "stdout",
     "output_type": "stream",
     "text": [
      "     id  type        xs        ys        zs        zz  zzz\n",
      "0   500     1  0.413068  0.247238  0.139937       NaN    3\n",
      "1   384     1  0.509008  0.225649  0.113632  0.225649    3\n",
      "2   391     1  0.596777  0.212693  0.082769  0.212693    3\n",
      "3    91     1  0.554459  0.155958  0.152680  0.155958    3\n",
      "4   396     1  0.678003  0.227263  0.134453  0.227263    3\n",
      "5   183     1  0.263006  0.326260  0.129268  0.326260    3\n",
      "6   199     1  0.355738  0.315005  0.096178  0.315005    3\n",
      "7   572     1  0.398526  0.368158  0.029198  0.368158    3\n",
      "8   563     1  0.449962  0.296985  0.070094  0.296985    3\n",
      "9   710     1  0.431955  0.334981  0.152336  0.334981    3\n",
      "10  612     1  0.486912  0.343823  0.000880  0.343823    3\n",
      "11  754     1  0.541953  0.275987  0.035143  0.275987    3\n",
      "12  737     1  0.529449  0.313131  0.123254  0.313131    3\n",
      "13  137     1  0.573823  0.364810  0.043554  0.364810    3\n",
      "14  108     1  0.618594  0.298632  0.091062  0.298632    3\n",
      "15  566     1  0.700857  0.316037  0.147745  0.316037    3\n",
      "16  189     1  0.155960  0.453291  0.147866  0.453291    3\n"
     ]
    }
   ],
   "source": [
    "for i in range(1,len(data)): # se hace una suma acumulativa basada en otra columna\n",
    "    data.loc[i,\"zz\"] = data.loc[i,\"ys\"]\n",
    "data[\"zzz\"] = 3\n",
    "print(data)     "
   ]
  },
  {
   "cell_type": "markdown",
   "metadata": {},
   "source": [
    "## Group by "
   ]
  },
  {
   "cell_type": "code",
   "execution_count": 32,
   "metadata": {},
   "outputs": [
    {
     "name": "stdout",
     "output_type": "stream",
     "text": [
      "<class 'pandas.core.frame.DataFrame'>\n",
      "RangeIndex: 1000 entries, 0 to 999\n",
      "Data columns (total 12 columns):\n",
      " #   Column              Non-Null Count  Dtype  \n",
      "---  ------              --------------  -----  \n",
      " 0   Rank                1000 non-null   int64  \n",
      " 1   Title               1000 non-null   object \n",
      " 2   Genre               1000 non-null   object \n",
      " 3   Description         1000 non-null   object \n",
      " 4   Director            1000 non-null   object \n",
      " 5   Actors              1000 non-null   object \n",
      " 6   Year                1000 non-null   int64  \n",
      " 7   Runtime (Minutes)   1000 non-null   int64  \n",
      " 8   Rating              1000 non-null   float64\n",
      " 9   Votes               1000 non-null   int64  \n",
      " 10  Revenue (Millions)  872 non-null    float64\n",
      " 11  Metascore           936 non-null    float64\n",
      "dtypes: float64(3), int64(4), object(5)\n",
      "memory usage: 93.9+ KB\n",
      "None\n"
     ]
    }
   ],
   "source": [
    "df_pel = pd.DataFrame(pd.read_csv(\"IMDB-Movie-Data.csv\"))\n",
    " print(df_pel.info())"
   ]
  },
  {
   "cell_type": "markdown",
   "metadata": {},
   "source": [
    "#### Optener el maximo de una columan"
   ]
  },
  {
   "cell_type": "code",
   "execution_count": 37,
   "metadata": {},
   "outputs": [
    {
     "name": "stdout",
     "output_type": "stream",
     "text": [
      "                              Votes\n",
      "Genre                              \n",
      "Action                        17237\n",
      "Action,Adventure            1003377\n",
      "Action,Adventure,Biography    97560\n",
      "Action,Adventure,Comedy     2709033\n",
      "Action,Adventure,Crime      1201937\n",
      "...                             ...\n",
      "Romance,Sci-Fi,Thriller      208632\n",
      "Sci-Fi                         1453\n",
      "Sci-Fi,Thriller              170897\n",
      "Thriller                     305642\n",
      "Thriller,War                   5926\n",
      "\n",
      "[207 rows x 1 columns]\n"
     ]
    }
   ],
   "source": [
    "print(df_pel.groupby([\"Genre\"])[[\"Votes\"]].sum())"
   ]
  },
  {
   "cell_type": "code",
   "execution_count": null,
   "metadata": {},
   "outputs": [],
   "source": []
  },
  {
   "cell_type": "code",
   "execution_count": null,
   "metadata": {},
   "outputs": [],
   "source": []
  },
  {
   "cell_type": "markdown",
   "metadata": {},
   "source": [
    "#  LEER XLSX"
   ]
  },
  {
   "cell_type": "code",
   "execution_count": 22,
   "metadata": {},
   "outputs": [],
   "source": [
    "path = r\"C:\\Users\\ProBook\\Desktop\\Conocimiento\\pandas\\Tablas evaluación diligenciadas.xlsx\"\n",
    "xsl = pd.ExcelFile(path)"
   ]
  },
  {
   "cell_type": "code",
   "execution_count": 23,
   "metadata": {},
   "outputs": [
    {
     "name": "stdout",
     "output_type": "stream",
     "text": [
      "['Planes x evaluador', 'Tabla líderes', 'Evaluadores x líder', 'Evaluadores']\n"
     ]
    }
   ],
   "source": [
    "print(xsl.sheet_names) #imprime el nombre de las hojas de calculo"
   ]
  },
  {
   "cell_type": "code",
   "execution_count": 24,
   "metadata": {},
   "outputs": [
    {
     "name": "stdout",
     "output_type": "stream",
     "text": [
      "<class 'pandas.core.frame.DataFrame'>\n",
      "RangeIndex: 276 entries, 0 to 275\n",
      "Data columns (total 4 columns):\n",
      " #   Column     Non-Null Count  Dtype \n",
      "---  ------     --------------  ----- \n",
      " 0   Conv       276 non-null    int64 \n",
      " 1   Cierre     276 non-null    int64 \n",
      " 2   Evaluador  276 non-null    object\n",
      " 3   Líder      276 non-null    object\n",
      "dtypes: int64(2), object(2)\n",
      "memory usage: 8.8+ KB\n",
      "None\n"
     ]
    }
   ],
   "source": [
    "df_xsl = xsl.parse(\"Evaluadores x líder\")\n",
    "print(df_xsl.info())"
   ]
  },
  {
   "cell_type": "markdown",
   "metadata": {},
   "source": [
    "# Trabajar con Hojas\n",
    "read_excel( r\"path\", sheet_name = \"nombre_hoja\")"
   ]
  },
  {
   "cell_type": "code",
   "execution_count": 76,
   "metadata": {},
   "outputs": [
    {
     "name": "stdout",
     "output_type": "stream",
     "text": [
      "  Cargo Cantidad Datos evaluador Datos a ajustar justificacion  \\\n",
      "0     d        d               d               d             d   \n",
      "1     d        d               d               d             d   \n",
      "\n",
      "   ID plan de negocio  \n",
      "0                33.0  \n",
      "1                33.0  \n"
     ]
    }
   ],
   "source": [
    "path =  r\"C:\\Users\\ProBook\\Desktop\\TRABAJO\\Ajustes a modificaciones\\Propuesta\\Formularios\\1.xlsx\"\n",
    "\n",
    "df_AjustesIniciales = pd.read_excel(path, sheet_name = \"AjustesIniciales\")\n",
    "df_IndicadoresGestion = pd.read_excel(path, sheet_name = \"Indicadores de gestion\")\n",
    "df_Produccion = pd.read_excel(path, sheet_name = \"Produccion\") \n",
    "df_Mercados = pd.read_excel(path, sheet_name = \"Mercados\") \n",
    "df_Empleados = pd.read_excel(path, sheet_name = \"Empleados\") \n",
    "\n",
    "\n",
    "ID_plan_negocio =  df_AjustesIniciales.iloc[0,0] #obtenermos el id del plan de negocios\n",
    "\n",
    "# añadimos el id del plan de negocios a cada df\n",
    "for i in range(len(df_IndicadoresGestion)):\n",
    "    df_IndicadoresGestion.loc[i,\"ID plan de negocio\"] = ID_plan_negocio\n",
    "for i in range(len(df_Produccion)):   \n",
    "    df_Produccion.loc[i,\"ID plan de negocio\"] = ID_plan_negocio\n",
    "for i in range(len(df_Mercados)):   \n",
    "    df_Mercados.loc[i,\"ID plan de negocio\"] = ID_plan_negocio\n",
    "for i in range(len(df_Empleados)):   \n",
    "    df_Empleados.loc[i,\"ID plan de negocio\"] = ID_plan_negocio\n",
    "\n",
    "print(df_Empleados)"
   ]
  },
  {
   "cell_type": "markdown",
   "metadata": {},
   "source": [
    "## TRABAJAR CON LIBROS DE EXEL"
   ]
  },
  {
   "cell_type": "code",
   "execution_count": 3,
   "metadata": {},
   "outputs": [],
   "source": [
    "excel_paths =  r\"C:\\Users\\ProBook\\Desktop\\TRABAJO\\Ajustes a modificaciones\\Propuesta\\Formularios\\*.xlsx\"\n",
    "excels_list = []\n",
    "\n",
    "lista_AjustesIniciales = []\n",
    "lista_IndicadoresGestion = []\n",
    "lista_Produccion = []\n",
    "lista_Mercados = []\n",
    "lista_Empleados = []\n",
    "\n",
    "for path in glob.glob(excel_paths):\n",
    "    # leemos todos los archivos \n",
    "    df_AjustesIniciales = pd.read_excel(path, sheet_name = \"AjustesIniciales\")\n",
    "    df_IndicadoresGestion = pd.read_excel(path, sheet_name = \"Indicadores de gestion\")\n",
    "    df_Produccion = pd.read_excel(path, sheet_name = \"Produccion\") \n",
    "    df_Mercados = pd.read_excel(path, sheet_name = \"Mercados\") \n",
    "    df_Empleados = pd.read_excel(path, sheet_name = \"Empleados\") \n",
    "\n",
    "    ID_plan_negocio =  df_AjustesIniciales.iloc[0,0] #obtenermos el id del plan de negocios\n",
    "\n",
    "    # añadimos el id del plan de negocios a cada df\n",
    "    for i in range(len(df_IndicadoresGestion)):\n",
    "        df_IndicadoresGestion.loc[i,\"ID plan de negocio\"] = ID_plan_negocio\n",
    "    for i in range(len(df_Produccion)):   \n",
    "        df_Produccion.loc[i,\"ID plan de negocio\"] = ID_plan_negocio\n",
    "    for i in range(len(df_Mercados)):   \n",
    "        df_Mercados.loc[i,\"ID plan de negocio\"] = ID_plan_negocio\n",
    "    for i in range(len(df_Empleados)):   \n",
    "        df_Empleados.loc[i,\"ID plan de negocio\"] = ID_plan_negocio\n",
    "    \n",
    "    #añadimos la lista con todos los archivos\n",
    "    lista_AjustesIniciales.append(df_AjustesIniciales)\n",
    "    lista_IndicadoresGestion.append(df_IndicadoresGestion)\n",
    "    lista_Produccion.append(df_Produccion)\n",
    "    lista_Mercados.append(df_Mercados)\n",
    "    lista_Empleados.append(df_Empleados)\n",
    "    \n",
    "# configuramos los dataframe en uno solo\n",
    "df_AjustesIniciales = pd.concat(lista_AjustesIniciales, ignore_index = True)\n",
    "df_IndicadoresGestion = pd.concat(lista_IndicadoresGestion, ignore_index = True)\n",
    "df_Produccion = pd.concat(lista_Produccion, ignore_index = True)\n",
    "df_Mercados = pd.concat(lista_Mercados, ignore_index = True)\n",
    "df_Empleados = pd.concat(lista_Empleados, ignore_index = True)\n",
    "\n",
    "#guardamos los archivos\n",
    "grabar = pd.ExcelWriter(\"resultados.xlsx\")\n",
    "\n",
    "df_AjustesIniciales.to_excel(grabar, \"AjustesIniciales\")\n",
    "df_IndicadoresGestion.to_excel(grabar, \"Indicadores de gestion\")\n",
    "df_Produccion.to_excel(grabar, \"Produccion\")\n",
    "df_Mercados.to_excel(grabar, \"Mercados\")\n",
    "df_Empleados.to_excel(grabar, \"Empleados\")\n",
    "\n",
    "grabar.save()"
   ]
  },
  {
   "cell_type": "markdown",
   "metadata": {},
   "source": [
    "### Duplicados\n",
    "df_nom.duplicated[\"colum1\",colum2\"]"
   ]
  },
  {
   "cell_type": "markdown",
   "metadata": {},
   "source": [
    "#### Pasar de data frame a numpy"
   ]
  },
  {
   "cell_type": "markdown",
   "metadata": {},
   "source": [
    "## JOIN\n",
    "df_new = pd.merge( \n",
    "- left = df_left,\n",
    "- right = df_right,\n",
    "- left_on = \"name_col\",\n",
    "- right_on=\"name_com\",\n",
    "- how = \"inner/left\",\n",
    "- suffixes = (\"name_col_left\", \"name_col_right\")\n",
    ")"
   ]
  },
  {
   "cell_type": "markdown",
   "metadata": {},
   "source": [
    "df_new = pd.merge(left = df_left, right = df_right, left_on = \"name_col\", right_on=\"name_com\", how = \"inner/left\")"
   ]
  },
  {
   "cell_type": "markdown",
   "metadata": {},
   "source": [
    "## Guardar"
   ]
  },
  {
   "cell_type": "code",
   "execution_count": null,
   "metadata": {},
   "outputs": [],
   "source": [
    "grabar = pd.ExcelWriter(\"Planes_operativos_data3.xlsx\")\n",
    "df_planes.to_excel(grabar, \"Planes_operativos\")\n",
    "df_actividades.to_excel(grabar, \"Actividades\")\n",
    "grabar.save()"
   ]
  }
 ],
 "metadata": {
  "kernelspec": {
   "display_name": "Python 3",
   "language": "python",
   "name": "python3"
  },
  "language_info": {
   "codemirror_mode": {
    "name": "ipython",
    "version": 3
   },
   "file_extension": ".py",
   "mimetype": "text/x-python",
   "name": "python",
   "nbconvert_exporter": "python",
   "pygments_lexer": "ipython3",
   "version": "3.7.6"
  }
 },
 "nbformat": 4,
 "nbformat_minor": 4
}
